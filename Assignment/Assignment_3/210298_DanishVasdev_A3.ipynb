{
  "nbformat": 4,
  "nbformat_minor": 0,
  "metadata": {
    "colab": {
      "name": "210298_DanishVasdev_A3.ipynb",
      "provenance": [],
      "collapsed_sections": []
    },
    "kernelspec": {
      "name": "python3",
      "display_name": "Python 3"
    },
    "language_info": {
      "name": "python"
    }
  },
  "cells": [
    {
      "cell_type": "code",
      "execution_count": 6,
      "metadata": {
        "id": "_yOkhdwZuZ1U"
      },
      "outputs": [],
      "source": [
        "\n",
        "import numpy as np\n",
        "import tensorflow as tf\n",
        "from tensorflow import keras\n",
        "from tensorflow.keras.layers import Input,Dense,LSTM,Conv1D,MaxPooling2D,Flatten\n",
        "import matplotlib.pyplot as plt\n",
        "from tensorflow.keras.models import Model"
      ]
    },
    {
      "cell_type": "code",
      "source": [
        "mnist = keras.datasets.mnist\n",
        "\n",
        "(x_train, y_train), (x_test, y_test) = mnist.load_data()\n"
      ],
      "metadata": {
        "id": "uvktY9mrug0J",
        "colab": {
          "base_uri": "https://localhost:8080/"
        },
        "outputId": "aac874af-6786-4e2d-8591-bd396b852137"
      },
      "execution_count": 2,
      "outputs": [
        {
          "output_type": "stream",
          "name": "stdout",
          "text": [
            "Downloading data from https://storage.googleapis.com/tensorflow/tf-keras-datasets/mnist.npz\n",
            "11493376/11490434 [==============================] - 0s 0us/step\n",
            "11501568/11490434 [==============================] - 0s 0us/step\n"
          ]
        }
      ]
    },
    {
      "cell_type": "code",
      "source": [
        "\n",
        "plt.imshow(x_train[0])"
      ],
      "metadata": {
        "colab": {
          "base_uri": "https://localhost:8080/",
          "height": 282
        },
        "id": "qot5yhZdwOuO",
        "outputId": "fd28b166-f779-4a69-e96e-3d059ed5130b"
      },
      "execution_count": 3,
      "outputs": [
        {
          "output_type": "execute_result",
          "data": {
            "text/plain": [
              "<matplotlib.image.AxesImage at 0x7fc9ab2b3a50>"
            ]
          },
          "metadata": {},
          "execution_count": 3
        },
        {
          "output_type": "display_data",
          "data": {
            "text/plain": [
              "<Figure size 432x288 with 1 Axes>"
            ],
            "image/png": "[encoded data removed]"
          },
          "metadata": {
            "needs_background": "light"
          }
        }
      ]
    },
    {
      "cell_type": "code",
      "source": [
        "k=len(set(y_train))\n",
        "inputs=Input(shape=(28,28))\n",
        "lstm= LSTM(64, return_sequences=True, return_state=True,input_shape=(None,28))(inputs)\n",
        "d1=Dense(16,activation=\"relu\")(lstm[1])\n",
        "\n",
        "\n",
        "\"\"\"last hidden layer i.e.. output layer\"\"\"\n",
        "d2=Dense(10,activation='sigmoid')(d1)\n",
        "model=Model(inputs,d2)\n",
        " \n",
        "'''model description'''\n",
        "model.summary()"
      ],
      "metadata": {
        "id": "CL_FU0C0xGag",
        "colab": {
          "base_uri": "https://localhost:8080/"
        },
        "outputId": "4053281b-a112-4a0c-dfad-258dd8263306"
      },
      "execution_count": 8,
      "outputs": [
        {
          "output_type": "stream",
          "name": "stdout",
          "text": [
            "Model: \"model_1\"\n",
            "_________________________________________________________________\n",
            " Layer (type)                Output Shape              Param #   \n",
            "=================================================================\n",
            " input_4 (InputLayer)        [(None, 28, 28)]          0         \n",
            "                                                                 \n",
            " lstm_3 (LSTM)               [(None, 28, 64),          23808     \n",
            "                              (None, 64),                        \n",
            "                              (None, 64)]                        \n",
            "                                                                 \n",
            " dense_4 (Dense)             (None, 16)                1040      \n",
            "                                                                 \n",
            " dense_5 (Dense)             (None, 10)                170       \n",
            "                                                                 \n",
            "=================================================================\n",
            "Total params: 25,018\n",
            "Trainable params: 25,018\n",
            "Non-trainable params: 0\n",
            "_________________________________________________________________\n"
          ]
        }
      ]
    },
    {
      "cell_type": "code",
      "source": [
        "model.compile(optimizer=tf.keras.optimizers.Adam(0.1,epsilon=1),loss=\"sparse_categorical_crossentropy\",metrics=[\"sparse_categorical_accuracy\"])"
      ],
      "metadata": {
        "id": "-ddkmqvIzR84"
      },
      "execution_count": 9,
      "outputs": []
    },
    {
      "cell_type": "code",
      "source": [
        "model.fit(x_train,y_train,epochs=20,validation_split=0.1,callbacks=[tf.keras.callbacks.EarlyStopping(monitor='loss', patience=3)])"
      ],
      "metadata": {
        "colab": {
          "base_uri": "https://localhost:8080/"
        },
        "id": "SBqhShfhzYNI",
        "outputId": "71a83267-a45f-4223-86e8-5ac7e3d00928"
      },
      "execution_count": 10,
      "outputs": [
        {
          "output_type": "stream",
          "name": "stdout",
          "text": [
            "Epoch 1/20\n",
            "1688/1688 [==============================] - 30s 17ms/step - loss: 1.0535 - sparse_categorical_accuracy: 0.6436 - val_loss: 0.5846 - val_sparse_categorical_accuracy: 0.8002\n",
            "Epoch 2/20\n",
            "1688/1688 [==============================] - 28s 17ms/step - loss: 0.5655 - sparse_categorical_accuracy: 0.8087 - val_loss: 0.4652 - val_sparse_categorical_accuracy: 0.8415\n",
            "Epoch 3/20\n",
            "1688/1688 [==============================] - 28s 16ms/step - loss: 0.4874 - sparse_categorical_accuracy: 0.8344 - val_loss: 0.4073 - val_sparse_categorical_accuracy: 0.8575\n",
            "Epoch 4/20\n",
            "1688/1688 [==============================] - 28s 16ms/step - loss: 0.4283 - sparse_categorical_accuracy: 0.8545 - val_loss: 0.3679 - val_sparse_categorical_accuracy: 0.8763\n",
            "Epoch 5/20\n",
            "1688/1688 [==============================] - 28s 17ms/step - loss: 0.3930 - sparse_categorical_accuracy: 0.8672 - val_loss: 0.3308 - val_sparse_categorical_accuracy: 0.8870\n",
            "Epoch 6/20\n",
            "1688/1688 [==============================] - 28s 17ms/step - loss: 0.3588 - sparse_categorical_accuracy: 0.8789 - val_loss: 0.3170 - val_sparse_categorical_accuracy: 0.8948\n",
            "Epoch 7/20\n",
            "1688/1688 [==============================] - 28s 16ms/step - loss: 0.3628 - sparse_categorical_accuracy: 0.8767 - val_loss: 0.3213 - val_sparse_categorical_accuracy: 0.8897\n",
            "Epoch 8/20\n",
            "1688/1688 [==============================] - 28s 17ms/step - loss: 0.3464 - sparse_categorical_accuracy: 0.8825 - val_loss: 0.2996 - val_sparse_categorical_accuracy: 0.8965\n",
            "Epoch 9/20\n",
            "1688/1688 [==============================] - 29s 17ms/step - loss: 0.3243 - sparse_categorical_accuracy: 0.8916 - val_loss: 0.2864 - val_sparse_categorical_accuracy: 0.9007\n",
            "Epoch 10/20\n",
            "1688/1688 [==============================] - 28s 17ms/step - loss: 0.3217 - sparse_categorical_accuracy: 0.8916 - val_loss: 0.3062 - val_sparse_categorical_accuracy: 0.8977\n",
            "Epoch 11/20\n",
            "1688/1688 [==============================] - 28s 17ms/step - loss: 0.3108 - sparse_categorical_accuracy: 0.8945 - val_loss: 0.2856 - val_sparse_categorical_accuracy: 0.9037\n",
            "Epoch 12/20\n",
            "1688/1688 [==============================] - 28s 17ms/step - loss: 0.3070 - sparse_categorical_accuracy: 0.8974 - val_loss: 0.2645 - val_sparse_categorical_accuracy: 0.9098\n",
            "Epoch 13/20\n",
            "1688/1688 [==============================] - 28s 16ms/step - loss: 0.2995 - sparse_categorical_accuracy: 0.8981 - val_loss: 0.2761 - val_sparse_categorical_accuracy: 0.9028\n",
            "Epoch 14/20\n",
            "1688/1688 [==============================] - 28s 16ms/step - loss: 0.2892 - sparse_categorical_accuracy: 0.9016 - val_loss: 0.2568 - val_sparse_categorical_accuracy: 0.9172\n",
            "Epoch 15/20\n",
            "1688/1688 [==============================] - 28s 17ms/step - loss: 0.2764 - sparse_categorical_accuracy: 0.9066 - val_loss: 0.2594 - val_sparse_categorical_accuracy: 0.9132\n",
            "Epoch 16/20\n",
            "1688/1688 [==============================] - 27s 16ms/step - loss: 0.2721 - sparse_categorical_accuracy: 0.9071 - val_loss: 0.2435 - val_sparse_categorical_accuracy: 0.9160\n",
            "Epoch 17/20\n",
            "1688/1688 [==============================] - 27s 16ms/step - loss: 0.2669 - sparse_categorical_accuracy: 0.9094 - val_loss: 0.2622 - val_sparse_categorical_accuracy: 0.9118\n",
            "Epoch 18/20\n",
            "1688/1688 [==============================] - 27s 16ms/step - loss: 0.2718 - sparse_categorical_accuracy: 0.9070 - val_loss: 0.2575 - val_sparse_categorical_accuracy: 0.9133\n",
            "Epoch 19/20\n",
            "1688/1688 [==============================] - 27s 16ms/step - loss: 0.2610 - sparse_categorical_accuracy: 0.9109 - val_loss: 0.2473 - val_sparse_categorical_accuracy: 0.9178\n",
            "Epoch 20/20\n",
            "1688/1688 [==============================] - 28s 17ms/step - loss: 0.2665 - sparse_categorical_accuracy: 0.9089 - val_loss: 0.2585 - val_sparse_categorical_accuracy: 0.9110\n"
          ]
        },
        {
          "output_type": "execute_result",
          "data": {
            "text/plain": [
              "<keras.callbacks.History at 0x7fc9a6a99590>"
            ]
          },
          "metadata": {},
          "execution_count": 10
        }
      ]
    }
  ]
}
