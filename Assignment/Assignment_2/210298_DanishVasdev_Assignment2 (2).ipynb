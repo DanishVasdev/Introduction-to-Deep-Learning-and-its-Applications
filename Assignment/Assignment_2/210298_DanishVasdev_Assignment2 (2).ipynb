{
  "cells": [
    {
      "cell_type": "markdown",
      "metadata": {
        "id": "rvFM645NE-D2"
      },
      "source": [
        "# Assignment 2\n",
        "In this assignment, we will go through Perceptron, Linear Classifiers, Loss Functions, Gradient Descent and Back Propagation.\n",
        "\n",
        "\n",
        "PS. this one is not from Stanford's course.\n",
        "\n",
        "\n",
        "\n",
        "\\\n",
        "\n",
        "## Instructions\n",
        "* This notebook contain blocks of code, you are required to complete those blocks(where required)\n",
        "* You are required to copy this notebook (\"copy to drive\" above) and complete the code.(DO NOT CHANGE THE NAME OF THE FUNCTIONS)"
      ]
    },
    {
      "cell_type": "markdown",
      "metadata": {
        "collapsed": true,
        "id": "QLtp15rqE-EU"
      },
      "source": [
        "# Part 1: Perceptron\n",
        "In this section, we will see how to implement a perceptron. Goal would be for you to delve into the mathematics.\n"
      ]
    },
    {
      "cell_type": "markdown",
      "metadata": {
        "id": "Zao4e-DphaGA"
      },
      "source": [
        "## Intro\n",
        "What's a perceptron? It's an algorithm modelled on biological computational model to classify things into binary classes. It's a supervides learning algorithm, meaning that you need to provide labelled data containing features and the actual classifications. A perceptron would take these features as input and spit out a binary value (0 or 1). While training the model with training data, we try to minimise the error and learn the parameters involved."
      ]
    },
    {
      "cell_type": "markdown",
      "metadata": {
        "id": "wDTUoAd6ixm-"
      },
      "source": [
        "**How does it work?**\\\n",
        "A perceptron is modelled on a biological neuron. A neuron has input dendrites and the output is carried by axons. Similarly, a perceptron takes inputs called \"features\". After processing, a perceptron gives output. For computation, it has a \"weight\" vector which is multipled with feature vector. An activation function is added to introduce some non linearities and the output is given out.\\\n",
        "It can be represented as: $$  f=\\sum_{i=1}^{m} w_ix_i +b$$\n",
        "\n",
        "Let's implement this simple function to give an output.\n",
        "\n"
      ]
    },
    {
      "cell_type": "code",
      "execution_count": 2,
      "metadata": {
        "id": "iXezofBIgzId"
      },
      "outputs": [],
      "source": [
        "import numpy as np\n",
        "\n",
        "class perceptron():\n",
        "    def __init__(self,num_input_features=8):\n",
        "        self.weights = np.random.randn(num_input_features)\n",
        "        self.bias = np.random.random()\n",
        "\n",
        "    def activation(self,x):\n",
        "        '''\n",
        "            Implement heavside step activation function here (google ;))\n",
        "        '''\n",
        "        if (x>0):\n",
        "           return 1\n",
        "        else:\n",
        "          return 0\n",
        "        pass\n",
        "\n",
        "    def forward(self,x: np.ndarray):\n",
        "        '''\n",
        "            you have random initialized weights and bias\n",
        "            you can access then using `self.weights` and `self.bias`\n",
        "            you should use activation function before returning\n",
        "        \n",
        "            x : input features\n",
        "            return : a binary value as the output of the perceptron \n",
        "        '''\n",
        "        sum=0\n",
        "        x=np.multiply(x,self.weights)\n",
        "        for i in x:\n",
        "          sum+=i\n",
        "        sum+=self.bias\n",
        "        sum=self.activation(sum)\n",
        "        pass\n",
        "        return sum;\n",
        "        # YOUR CODE HERE"
      ]
    },
    {
      "cell_type": "code",
      "execution_count": 3,
      "metadata": {
        "id": "oSKwDFAyocVo"
      },
      "outputs": [],
      "source": [
        "np.random.seed(0)\n",
        "perc = perceptron(8)\n",
        "assert perc.forward(np.arange(8))==1"
      ]
    },
    {
      "cell_type": "markdown",
      "metadata": {
        "collapsed": true,
        "id": "NWTTg1e9r7uM"
      },
      "source": [
        "# Part 2: Linear Classifier\n",
        "In this section, we will see how to implement a linear Classifier.\n"
      ]
    },
    {
      "cell_type": "markdown",
      "metadata": {
        "id": "DYDO4GcHr7uM"
      },
      "source": [
        "## Intro\n"
      ]
    },
    {
      "cell_type": "markdown",
      "metadata": {
        "id": "-HFvjH06r7uN"
      },
      "source": [
        "**How does it work?**\n",
        "\n",
        "Linear Classifier uses the following function: $$Y = WX+b$$ Where, $W$ is a 2d array of weights with shape (#features, #classes).\n",
        "\n",
        "\n",
        "Let's implement this classifier.\n",
        "\n"
      ]
    },
    {
      "cell_type": "code",
      "execution_count": 14,
      "metadata": {
        "id": "9A13CEkGr7uN"
      },
      "outputs": [],
      "source": [
        "import numpy as np\n",
        "\n",
        "class LinearClassifier():\n",
        "    def __init__(self,num_input_features=32,num_classes=5):\n",
        "        self.weights = np.random.randn(num_classes,num_input_features)\n",
        "        self.bias = np.random.rand(num_classes,1)\n",
        "\n",
        "    def forward(self,x: np.ndarray):\n",
        "        '''\n",
        "            x: input features\n",
        "            you have random initialized weights and bias\n",
        "            you can access then using `self.weights` and `self.bias`\n",
        "            return an output vector of num_classes size\n",
        "        '''\n",
        "        res=np.dot(self.weights,x)\n",
        "        res+=self.bias\n",
        "        return res\n",
        "        # YOUR CODE HERE\n",
        "        pass\n",
        "        # YOUR CODE HERE"
      ]
    },
    {
      "cell_type": "code",
      "execution_count": 15,
      "metadata": {
        "colab": {
          "base_uri": "https://localhost:8080/"
        },
        "id": "zgzPxyTsr7uN",
        "outputId": "0cfd15ec-eed4-47f5-a880-bea4b564c4b6"
      },
      "outputs": [
        {
          "output_type": "execute_result",
          "data": {
            "text/plain": [
              "array([[  7.07730669],\n",
              "       [-10.24067722],\n",
              "       [  0.75398702],\n",
              "       [  9.8019519 ],\n",
              "       [  2.36684038]])"
            ]
          },
          "metadata": {},
          "execution_count": 15
        }
      ],
      "source": [
        "np.random.seed(0)\n",
        "lc = LinearClassifier()\n",
        "lc.forward(np.random.rand(32,1))\n",
        "# Should be close to:\n",
        "# array([[ 1.30208164,  5.58136003,  0.87793013, -4.7332119 ,  4.81172123]])"
      ]
    },
    {
      "cell_type": "markdown",
      "metadata": {
        "collapsed": true,
        "id": "ZVgOVzJetuqo"
      },
      "source": [
        "# Part 3: Loss Functions, Gradient descent and Backpropagation\n",
        "\n",
        "\n"
      ]
    },
    {
      "cell_type": "markdown",
      "metadata": {
        "id": "4pXryjpctuqy"
      },
      "source": [
        "## Intro\n",
        "\n",
        "Loss Functions tells how \"off\" the output od our model is. Based upon the application, you can use several different loss functions. Formally, A loss function is a function $L:(z,y)\\in\\mathbb{R}\\times Y\\longmapsto L(z,y)\\in\\mathbb{R}$ that takes as inputs the predicted value $z$ corresponding to the real data value yy and outputs how different they are We'll implement L1 loss, L2 loss, Logistic loss, hinge loss and cross entropy loss functions."
      ]
    },
    {
      "cell_type": "markdown",
      "metadata": {
        "id": "QGRb8BHotuqy"
      },
      "source": [
        "### **L1 loss**\n",
        "L1 loss is the linear loss function  $L = \\dfrac{1}{2}(y−z) $\n",
        "\n"
      ]
    },
    {
      "cell_type": "code",
      "execution_count": 16,
      "metadata": {
        "id": "YxVh6IL2tuqz"
      },
      "outputs": [],
      "source": [
        "import numpy as np\n",
        "def L1Loss(z,y):\n",
        "    '''\n",
        "        y : True output.\n",
        "        z : Predicted output.\n",
        "        return : L\n",
        "    '''\n",
        "    l=(y-z)/2\n",
        "    return l\n",
        "    pass"
      ]
    },
    {
      "cell_type": "markdown",
      "metadata": {
        "id": "2xy8ZS84cKtQ"
      },
      "source": [
        "### **L2 loss**\n",
        "L2 loss is the quadratic loss function or the least square error function  $L = \\dfrac{1}{2}(y−z)^2 $\n",
        "\n"
      ]
    },
    {
      "cell_type": "code",
      "execution_count": 17,
      "metadata": {
        "id": "JThp5P-KcKtS"
      },
      "outputs": [],
      "source": [
        "import numpy as np\n",
        "def L2Loss(z,y):\n",
        "    '''\n",
        "        y : True output. \n",
        "        z : Predicted output. \n",
        "        return : L\n",
        "    '''\n",
        "    l=((y-z)**2)/2\n",
        "    return l\n",
        "    pass"
      ]
    },
    {
      "cell_type": "markdown",
      "metadata": {
        "id": "Z2JNLnWYcLSC"
      },
      "source": [
        "### **Hinge Loss**\n",
        "Hinge loss is: $ L = max( 0, 1 - yz ) $"
      ]
    },
    {
      "cell_type": "code",
      "execution_count": 18,
      "metadata": {
        "id": "gQ1YM4J-cLSC"
      },
      "outputs": [],
      "source": [
        "import numpy as np\n",
        "def hingeLoss(z,y):\n",
        "    '''\n",
        "        y : True output. \n",
        "        z : Predicted output. \n",
        "        return : L\n",
        "    '''\n",
        "    a=1-y*z\n",
        "    if a>0:\n",
        "      return a\n",
        "    else:\n",
        "      return 0\n",
        "    pass"
      ]
    },
    {
      "cell_type": "markdown",
      "metadata": {
        "id": "m15_MjradMNY"
      },
      "source": [
        "### **Cross Entropy Loss**\n",
        "Another very famous loss function is Cross Entropy loss: $ L = −[ylog(z)+(1−y)log(1−z)] $."
      ]
    },
    {
      "cell_type": "code",
      "execution_count": 19,
      "metadata": {
        "id": "snJLqhszdMNY"
      },
      "outputs": [],
      "source": [
        "import numpy as np\n",
        "def CELoss(z,y):\n",
        "    '''\n",
        "        y : True output. \n",
        "        z : Predicted output. \n",
        "        return : L\n",
        "    '''\n",
        "    l=-1*(y*np.log(z)+(1-y)*np.log(1-z))\n",
        "    return l\n",
        "    pass"
      ]
    },
    {
      "cell_type": "markdown",
      "metadata": {
        "id": "OsRPsfzxyEVL"
      },
      "source": [
        "### **0-1 Loss**\n",
        "Loss Function used by perceptron is: $ \\begin{cases} \n",
        "      0=z-y & z=y \\\\\n",
        "      1=\\dfrac{z-y}{z-y} & z\\neq y\n",
        "   \\end{cases} $."
      ]
    },
    {
      "cell_type": "code",
      "execution_count": 20,
      "metadata": {
        "id": "5sA7GxLHyEVM"
      },
      "outputs": [],
      "source": [
        "import numpy as np\n",
        "def zeroOneLoss(z,y):\n",
        "    '''\n",
        "        y : True output. \n",
        "        z : Predicted output. \n",
        "        return : L\n",
        "    '''\n",
        "    if z==y:\n",
        "      return 0\n",
        "    else:\n",
        "      return 1\n",
        "    pass"
      ]
    },
    {
      "cell_type": "markdown",
      "metadata": {
        "id": "CWhbibHcgRR8"
      },
      "source": [
        "## Cost Function\n",
        "The cost function $J$ is commonly used to assess the performance of a model, and is defined with the loss function $L$ as follows:\n",
        "$$\\boxed{J(\\theta)=\\sum_{i=1}^mL(h_\\theta(x^{(i)}), y^{(i)})}$$\n",
        "where $h_\\theta$ is the hypothesis function i.e. the function used to predict the output."
      ]
    },
    {
      "cell_type": "code",
      "execution_count": 21,
      "metadata": {
        "id": "SSbmhW4og97t"
      },
      "outputs": [],
      "source": [
        "lossFunctions = {\n",
        "    \"l1\" : L1Loss,\n",
        "    \"l2\" : L2Loss,\n",
        "    \"hinge\" : hingeLoss,\n",
        "    \"cross-entropy\" : CELoss,\n",
        "    \"0-1\" : zeroOneLoss\n",
        "}\n",
        "\n",
        "def cost(Z : np.ndarray, Y : np.ndarray, loss : str):\n",
        "    '''\n",
        "        Z : a numpy array of predictions.\n",
        "        Y : a numpy array of true values.\n",
        "        return : A numpy array of costs calculated for each example.\n",
        "    '''\n",
        "    \n",
        "    loss_func = lossFunctions[loss]\n",
        "    res=loss_func(Z,Y)\n",
        "    # YOUR CODE HERE\n",
        "    J = 0\n",
        "    m=1\n",
        "    for i in res.shape:\n",
        "      m*=i\n",
        "    \n",
        "    J+=res.sum()\n",
        "    \n",
        "    return J/m\n"
      ]
    },
    {
      "cell_type": "markdown",
      "metadata": {
        "id": "upsN7A0zjGqx"
      },
      "source": [
        "## Gradient Descent and Back Propagation\n",
        "Gradient Descent is an algorithm that minimizes the loss function by calculating it's gradient. By noting $\\alpha\\in\\mathbb{R}$ the learning rate, the update rule for gradient descent is expressed with the learning rate $\\alpha$ and the cost function $J$ as follows:\n",
        "\n",
        "$$\\boxed{ W \\longleftarrow W -\\alpha\\nabla J( W )}$$\n",
        "​\n"
      ]
    },
    {
      "cell_type": "markdown",
      "metadata": {
        "id": "AFCN-fYCqidi"
      },
      "source": [
        "But we need to find the partial derivative of Loss function wrt every parameter to know what is the slight change that we need to apply to our parameters. This becomes particularly hard if we have more than 1 layer in our algorithm. Here's where **Back Propagation** comes in. It's a way to find gradients wrt every parameter using the chain rule. Backpropagation is a method to update the weights in the neural network by taking into account the actual output and the desired output. The derivative with respect to weight ww is computed using chain rule and is of the following form:\n",
        "\n",
        "$$\\boxed{\\frac{\\partial L(z,y)}{\\partial w}=\\frac{\\partial L(z,y)}{\\partial a}\\times\\frac{\\partial a}{\\partial z}\\times\\frac{\\partial z}{\\partial w}}$$\n",
        "​\n",
        " \n",
        "As a result, the weight is updated as follows:\n",
        "\n",
        "$$\\boxed{w\\longleftarrow w-\\alpha\\frac{\\partial L(z,y)}{\\partial w}}$$\n",
        "\n",
        "So, In a neural network, weights are updated as follows:\n",
        "\n",
        "* Step 1: Take a batch of training data.\n",
        "* Step 2: Perform forward propagation to obtain the corresponding loss.\n",
        "* Step 3: Backpropagate the loss to get the gradients.\n",
        "* Step 4: Use the gradients to update the weights of the network.\n",
        "​\n",
        "\n",
        "Bonus Problem\n",
        " \n",
        "Now, Assuming that you know Back Propagation (read a bit about it, if you don't), we'll now implement an image classification model on CIFAR-10."
      ]
    },
    {
      "cell_type": "markdown",
      "metadata": {
        "id": "sJoG5kkYopRN"
      },
      "source": [
        "# **Bonus Problem**\n",
        "\n",
        "Now, Assuming that you know Back Propagation (read a bit about it, if you don't), we'll now implement an image classification model on CIFAR-10."
      ]
    },
    {
      "cell_type": "code",
      "execution_count": 22,
      "metadata": {
        "colab": {
          "base_uri": "https://localhost:8080/"
        },
        "id": "_4-4RceVsor_",
        "outputId": "d09d9c1a-6bd8-46ba-c6e3-d745bf2291a1"
      },
      "outputs": [
        {
          "output_type": "stream",
          "name": "stdout",
          "text": [
            "2.8.0\n"
          ]
        }
      ],
      "source": [
        "import tensorflow as tf  \n",
        " \n",
        "# Display the version\n",
        "print(tf.__version__)    \n",
        " \n",
        "# other imports\n",
        "import numpy as np\n",
        "import matplotlib.pyplot as plt\n",
        "from tensorflow.keras.layers import Input, Conv2D, Dense, Flatten, Dropout\n",
        "from tensorflow.keras.layers import GlobalMaxPooling2D, MaxPooling2D\n",
        "from tensorflow.keras.layers import BatchNormalization\n",
        "from tensorflow.keras.models import Model"
      ]
    },
    {
      "cell_type": "code",
      "execution_count": null,
      "metadata": {
        "colab": {
          "base_uri": "https://localhost:8080/"
        },
        "id": "yyplk5PLEUsJ",
        "outputId": "5d19d564-600e-479d-f74d-62093bec8d9e"
      },
      "outputs": [
        {
          "name": "stdout",
          "output_type": "stream",
          "text": [
            "Downloading data from https://www.cs.toronto.edu/~kriz/cifar-10-python.tar.gz\n",
            "170500096/170498071 [==============================] - 6s 0us/step\n",
            "170508288/170498071 [==============================] - 6s 0us/step\n",
            "(50000, 32, 32, 3) (50000, 1) (10000, 32, 32, 3) (10000, 1)\n"
          ]
        }
      ],
      "source": [
        "# Load in the data\n",
        "cifar10 = tf.keras.datasets.cifar10\n",
        " \n",
        "# Distribute it to train and test set\n",
        "(x_train, y_train), (x_test, y_test) = cifar10.load_data()\n",
        "print(x_train.shape, y_train.shape, x_test.shape, y_test.shape)\n",
        "\n",
        "# Reduce pixel values\n",
        "x_train, x_test = x_train / 255.0, x_test / 255.0\n",
        " \n",
        "# flatten the label values\n",
        "y_train, y_test = y_train.flatten(), y_test.flatten()"
      ]
    },
    {
      "cell_type": "code",
      "execution_count": null,
      "metadata": {
        "colab": {
          "base_uri": "https://localhost:8080/",
          "height": 281
        },
        "id": "qQhkATYhEkkC",
        "outputId": "7c383956-e8af-4637-dbbe-0adf008d463f"
      },
      "outputs": [
        {
          "data": {
            "image/png": "[encoded data removed]",
            "text/plain": [
              "<Figure size 432x288 with 1 Axes>"
            ]
          },
          "metadata": {},
          "output_type": "display_data"
        }
      ],
      "source": [
        "'''visualize data by plotting images'''\n",
        "# YOUR CODE HERE\n",
        "import matplotlib.pyplot as plt\n",
        "plt.title(y_train[0])\n",
        "plt.imshow(x_train[0,:,:,:])\n",
        "pass\n",
        "# YOUR CODE HERE"
      ]
    },
    {
      "cell_type": "code",
      "execution_count": null,
      "metadata": {
        "colab": {
          "base_uri": "https://localhost:8080/"
        },
        "id": "yJgho2AEBFbx",
        "outputId": "53c23995-7dcd-412d-e8f7-8174316d7ab2"
      },
      "outputs": [
        {
          "name": "stdout",
          "output_type": "stream",
          "text": [
            "number of classes: 10\n",
            "Model: \"model_1\"\n",
            "_________________________________________________________________\n",
            " Layer (type)                Output Shape              Param #   \n",
            "=================================================================\n",
            " input_2 (InputLayer)        [(None, 32, 32, 3)]       0         \n",
            "                                                                 \n",
            " conv2d_6 (Conv2D)           (None, 31, 31, 64)        832       \n",
            "                                                                 \n",
            " max_pooling2d_6 (MaxPooling  (None, 15, 15, 64)       0         \n",
            " 2D)                                                             \n",
            "                                                                 \n",
            " conv2d_7 (Conv2D)           (None, 14, 14, 64)        16448     \n",
            "                                                                 \n",
            " max_pooling2d_7 (MaxPooling  (None, 7, 7, 64)         0         \n",
            " 2D)                                                             \n",
            "                                                                 \n",
            " flatten_1 (Flatten)         (None, 3136)              0         \n",
            "                                                                 \n",
            " dense_2 (Dense)             (None, 16)                50192     \n",
            "                                                                 \n",
            " dense_3 (Dense)             (None, 10)                170       \n",
            "                                                                 \n",
            "=================================================================\n",
            "Total params: 67,642\n",
            "Trainable params: 67,642\n",
            "Non-trainable params: 0\n",
            "_________________________________________________________________\n"
          ]
        }
      ],
      "source": [
        "\n",
        "# number of classes\n",
        "K = len(set(y_train))\n",
        "'''\n",
        " calculate total number of classes\n",
        " for output layer\n",
        "'''\n",
        "print(\"number of classes:\", K)\n",
        "''' \n",
        " Build the model using the functional API\n",
        " input layer\n",
        "'''\n",
        "inputs=Input(shape=(32,32,3))\n",
        " \n",
        "'''Hidden layer'''\n",
        "conv=Conv2D(64,2)(inputs,training=True)\n",
        "max_pool=MaxPooling2D()(conv)\n",
        "conv2=Conv2D(64,2)(max_pool,training=True)\n",
        "max_pool_2= MaxPooling2D()(conv2)\n",
        "conv3=Conv2D(64,2)(inputs,training=True)\n",
        "max_pool3=MaxPooling2D()(conv3)\n",
        "conv4=Conv2D(64,2,activation=\"relu\")(max_pool3,training=True)\n",
        "max_pool_4= MaxPooling2D()(conv4)\n",
        "flat=Flatten()(max_pool_4)\n",
        "d1=Dense(16,activation=\"relu\")(flat)\n",
        "\n",
        " \n",
        "\"\"\"last hidden layer i.e.. output layer\"\"\"\n",
        "d2=Dense(10,activation='sigmoid')(d1)\n",
        "model=Model(inputs,d2)\n",
        " \n",
        "'''model description'''\n",
        "model.summary()"
      ]
    },
    {
      "cell_type": "code",
      "execution_count": null,
      "metadata": {
        "id": "PLc4Bay65TyA"
      },
      "outputs": [],
      "source": [
        "# Compile\n",
        "model.compile(optimizer=tf.keras.optimizers.Adam(0.1,epsilon=1),loss=\"sparse_categorical_crossentropy\",metrics=[\"sparse_categorical_accuracy\"])"
      ]
    },
    {
      "cell_type": "code",
      "execution_count": null,
      "metadata": {
        "colab": {
          "background_save": true,
          "base_uri": "https://localhost:8080/"
        },
        "id": "U0fGsDCRsQrn",
        "outputId": "3965db27-5061-4299-d891-c44e03d90473"
      },
      "outputs": [
        {
          "name": "stdout",
          "output_type": "stream",
          "text": [
            "Epoch 1/20\n",
            "1407/1407 [==============================] - 66s 46ms/step - loss: 1.7404 - sparse_categorical_accuracy: 0.3654 - val_loss: 1.3948 - val_sparse_categorical_accuracy: 0.4956\n",
            "Epoch 2/20\n",
            "1407/1407 [==============================] - 65s 46ms/step - loss: 1.2885 - sparse_categorical_accuracy: 0.5415 - val_loss: 1.1631 - val_sparse_categorical_accuracy: 0.5868\n",
            "Epoch 3/20\n",
            "1407/1407 [==============================] - 64s 46ms/step - loss: 1.1165 - sparse_categorical_accuracy: 0.6076 - val_loss: 1.0632 - val_sparse_categorical_accuracy: 0.6248\n",
            "Epoch 4/20\n",
            "1407/1407 [==============================] - 64s 45ms/step - loss: 1.0210 - sparse_categorical_accuracy: 0.6426 - val_loss: 1.0509 - val_sparse_categorical_accuracy: 0.6332\n",
            "Epoch 5/20\n",
            "1407/1407 [==============================] - 64s 45ms/step - loss: 0.9520 - sparse_categorical_accuracy: 0.6663 - val_loss: 1.0356 - val_sparse_categorical_accuracy: 0.6468\n",
            "Epoch 6/20\n",
            "1407/1407 [==============================] - 64s 45ms/step - loss: 0.8972 - sparse_categorical_accuracy: 0.6865 - val_loss: 0.9856 - val_sparse_categorical_accuracy: 0.6612\n",
            "Epoch 7/20\n",
            "1407/1407 [==============================] - 64s 45ms/step - loss: 0.8555 - sparse_categorical_accuracy: 0.7033 - val_loss: 1.0641 - val_sparse_categorical_accuracy: 0.6426\n",
            "Epoch 8/20\n",
            "1407/1407 [==============================] - 64s 45ms/step - loss: 0.8208 - sparse_categorical_accuracy: 0.7139 - val_loss: 0.9794 - val_sparse_categorical_accuracy: 0.6678\n",
            "Epoch 9/20\n",
            "1407/1407 [==============================] - 65s 46ms/step - loss: 0.7850 - sparse_categorical_accuracy: 0.7261 - val_loss: 1.0816 - val_sparse_categorical_accuracy: 0.6470\n",
            "Epoch 10/20\n",
            "1407/1407 [==============================] - 64s 46ms/step - loss: 0.7552 - sparse_categorical_accuracy: 0.7361 - val_loss: 1.0384 - val_sparse_categorical_accuracy: 0.6684\n",
            "Epoch 11/20\n",
            "1407/1407 [==============================] - 64s 45ms/step - loss: 0.7365 - sparse_categorical_accuracy: 0.7426 - val_loss: 0.9867 - val_sparse_categorical_accuracy: 0.6762\n",
            "Epoch 12/20\n",
            "1407/1407 [==============================] - 64s 45ms/step - loss: 0.6992 - sparse_categorical_accuracy: 0.7530 - val_loss: 1.0270 - val_sparse_categorical_accuracy: 0.6688\n",
            "Epoch 13/20\n",
            "1407/1407 [==============================] - 64s 45ms/step - loss: 0.6916 - sparse_categorical_accuracy: 0.7565 - val_loss: 1.0440 - val_sparse_categorical_accuracy: 0.6644\n",
            "Epoch 14/20\n",
            "1407/1407 [==============================] - 63s 45ms/step - loss: 0.6689 - sparse_categorical_accuracy: 0.7646 - val_loss: 1.0610 - val_sparse_categorical_accuracy: 0.6572\n",
            "Epoch 15/20\n",
            "1407/1407 [==============================] - 63s 45ms/step - loss: 0.6513 - sparse_categorical_accuracy: 0.7694 - val_loss: 1.0972 - val_sparse_categorical_accuracy: 0.6778\n",
            "Epoch 16/20\n",
            "1407/1407 [==============================] - 63s 45ms/step - loss: 0.6342 - sparse_categorical_accuracy: 0.7752 - val_loss: 1.1361 - val_sparse_categorical_accuracy: 0.6546\n",
            "Epoch 17/20\n",
            "1407/1407 [==============================] - 63s 45ms/step - loss: 0.6163 - sparse_categorical_accuracy: 0.7819 - val_loss: 1.2127 - val_sparse_categorical_accuracy: 0.6558\n",
            "Epoch 18/20\n",
            "1407/1407 [==============================] - 64s 45ms/step - loss: 0.6123 - sparse_categorical_accuracy: 0.7838 - val_loss: 1.2930 - val_sparse_categorical_accuracy: 0.6300\n",
            "Epoch 19/20\n",
            "1407/1407 [==============================] - 63s 45ms/step - loss: 0.5859 - sparse_categorical_accuracy: 0.7927 - val_loss: 1.1772 - val_sparse_categorical_accuracy: 0.6584\n",
            "Epoch 20/20\n",
            "1407/1407 [==============================] - 63s 45ms/step - loss: 0.5688 - sparse_categorical_accuracy: 0.7961 - val_loss: 1.2359 - val_sparse_categorical_accuracy: 0.6502\n"
          ]
        },
        {
          "data": {
            "text/plain": [
              "<keras.callbacks.History at 0x7f83591f8f90>"
            ]
          },
          "execution_count": null,
          "metadata": {},
          "output_type": "execute_result"
        }
      ],
      "source": [
        "# Fit\n",
        "model.fit(x_train,y_train,epochs=20,validation_split=0.1,callbacks=[tf.keras.callbacks.EarlyStopping(monitor='loss', patience=3)])"
      ]
    },
    {
      "cell_type": "code",
      "execution_count": null,
      "metadata": {
        "colab": {
          "base_uri": "https://localhost:8080/",
          "height": 283
        },
        "id": "RDq_RE6osSh8",
        "outputId": "9d402165-4d6f-4c7e-c67a-4ad4044efbb0"
      },
      "outputs": [
        {
          "output_type": "stream",
          "name": "stdout",
          "text": [
            "Original label is cat and predicted label is cat\n"
          ]
        },
        {
          "output_type": "display_data",
          "data": {
            "text/plain": [
              "<Figure size 432x288 with 1 Axes>"
            ],
            "image/png": "[encoded data removed]"
          },
          "metadata": {
            "needs_background": "light"
          }
        }
      ],
      "source": [
        "# label mapping\n",
        " \n",
        "labels = '''airplane automobile bird cat deer dog frog horse ship truck'''.split()\n",
        " \n",
        "# select the image from our test dataset\n",
        "image_number = 0\n",
        " \n",
        "# display the image\n",
        "plt.imshow(x_test[image_number])\n",
        " \n",
        "# load the image in an array\n",
        "n = np.array(x_test[image_number])\n",
        " \n",
        "# reshape it\n",
        "p = n.reshape(1, 32, 32, 3)\n",
        " \n",
        "# pass in the network for prediction and\n",
        "# save the predicted label\n",
        "predicted_label = labels[model.predict(p).argmax()]\n",
        " \n",
        "# load the original label\n",
        "original_label = labels[y_test[image_number]]\n",
        " \n",
        "# display the result\n",
        "print(\"Original label is {} and predicted label is {}\".format(\n",
        "    original_label, predicted_label))"
      ]
    }
  ],
  "metadata": {
    "colab": {
      "collapsed_sections": [],
      "name": "210298_DanishVasdev_Assignment2.ipynb",
      "provenance": []
    },
    "kernelspec": {
      "display_name": "Python 3",
      "name": "python3"
    },
    "language_info": {
      "name": "python"
    }
  },
  "nbformat": 4,
  "nbformat_minor": 0
}