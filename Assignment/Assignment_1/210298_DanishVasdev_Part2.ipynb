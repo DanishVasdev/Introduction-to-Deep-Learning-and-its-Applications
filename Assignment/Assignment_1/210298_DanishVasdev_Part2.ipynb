{
 "cells": [
  {
   "cell_type": "code",
   "execution_count": 4,
   "metadata": {},
   "outputs": [],
   "source": [
    "import pandas as pd\n",
    "import numpy as np\n",
    "import matplotlib.pyplot as plt"
   ]
  },
  {
   "cell_type": "code",
   "execution_count": 5,
   "metadata": {},
   "outputs": [],
   "source": [
    "df=pd.read_csv(\"House_prediction.csv\")"
   ]
  },
  {
   "cell_type": "code",
   "execution_count": 6,
   "metadata": {},
   "outputs": [
    {
     "name": "stdout",
     "output_type": "stream",
     "text": [
      "           city  area  rooms  bathroom  parking spaces floor     animal  \\\n",
      "0     São Paulo    70      2         1               1     7      acept   \n",
      "1     São Paulo   320      4         4               0    20      acept   \n",
      "2  Porto Alegre    80      1         1               1     6      acept   \n",
      "3  Porto Alegre    51      2         1               0     2      acept   \n",
      "4     São Paulo    25      1         1               0     1  not acept   \n",
      "\n",
      "       furniture  hoa (R$)  rent amount (R$)  property tax (R$)  \\\n",
      "0      furnished      2065              3300                211   \n",
      "1  not furnished      1200              4960               1750   \n",
      "2  not furnished      1000              2800                  0   \n",
      "3  not furnished       270              1112                 22   \n",
      "4  not furnished         0               800                 25   \n",
      "\n",
      "   fire insurance (R$)  total (R$)  \n",
      "0                   42        5618  \n",
      "1                   63        7973  \n",
      "2                   41        3841  \n",
      "3                   17        1421  \n",
      "4                   11         836  \n"
     ]
    }
   ],
   "source": [
    "#Brief look of dataset\n",
    "print(df.head(5))"
   ]
  },
  {
   "cell_type": "code",
   "execution_count": 7,
   "metadata": {},
   "outputs": [
    {
     "data": {
      "text/html": [
       "<div>\n",
       "<style scoped>\n",
       "    .dataframe tbody tr th:only-of-type {\n",
       "        vertical-align: middle;\n",
       "    }\n",
       "\n",
       "    .dataframe tbody tr th {\n",
       "        vertical-align: top;\n",
       "    }\n",
       "\n",
       "    .dataframe thead th {\n",
       "        text-align: right;\n",
       "    }\n",
       "</style>\n",
       "<table border=\"1\" class=\"dataframe\">\n",
       "  <thead>\n",
       "    <tr style=\"text-align: right;\">\n",
       "      <th></th>\n",
       "      <th>area</th>\n",
       "      <th>rooms</th>\n",
       "      <th>bathroom</th>\n",
       "      <th>parking spaces</th>\n",
       "      <th>hoa (R$)</th>\n",
       "      <th>rent amount (R$)</th>\n",
       "      <th>property tax (R$)</th>\n",
       "      <th>fire insurance (R$)</th>\n",
       "      <th>total (R$)</th>\n",
       "    </tr>\n",
       "  </thead>\n",
       "  <tbody>\n",
       "    <tr>\n",
       "      <th>count</th>\n",
       "      <td>10692.000000</td>\n",
       "      <td>10692.000000</td>\n",
       "      <td>10692.000000</td>\n",
       "      <td>10692.000000</td>\n",
       "      <td>1.069200e+04</td>\n",
       "      <td>10692.000000</td>\n",
       "      <td>10692.000000</td>\n",
       "      <td>10692.000000</td>\n",
       "      <td>1.069200e+04</td>\n",
       "    </tr>\n",
       "    <tr>\n",
       "      <th>mean</th>\n",
       "      <td>149.217920</td>\n",
       "      <td>2.506079</td>\n",
       "      <td>2.236813</td>\n",
       "      <td>1.609147</td>\n",
       "      <td>1.174022e+03</td>\n",
       "      <td>3896.247194</td>\n",
       "      <td>366.704358</td>\n",
       "      <td>53.300879</td>\n",
       "      <td>5.490487e+03</td>\n",
       "    </tr>\n",
       "    <tr>\n",
       "      <th>std</th>\n",
       "      <td>537.016942</td>\n",
       "      <td>1.171266</td>\n",
       "      <td>1.407198</td>\n",
       "      <td>1.589521</td>\n",
       "      <td>1.559231e+04</td>\n",
       "      <td>3408.545518</td>\n",
       "      <td>3107.832321</td>\n",
       "      <td>47.768031</td>\n",
       "      <td>1.648473e+04</td>\n",
       "    </tr>\n",
       "    <tr>\n",
       "      <th>min</th>\n",
       "      <td>11.000000</td>\n",
       "      <td>1.000000</td>\n",
       "      <td>1.000000</td>\n",
       "      <td>0.000000</td>\n",
       "      <td>0.000000e+00</td>\n",
       "      <td>450.000000</td>\n",
       "      <td>0.000000</td>\n",
       "      <td>3.000000</td>\n",
       "      <td>4.990000e+02</td>\n",
       "    </tr>\n",
       "    <tr>\n",
       "      <th>25%</th>\n",
       "      <td>56.000000</td>\n",
       "      <td>2.000000</td>\n",
       "      <td>1.000000</td>\n",
       "      <td>0.000000</td>\n",
       "      <td>1.700000e+02</td>\n",
       "      <td>1530.000000</td>\n",
       "      <td>38.000000</td>\n",
       "      <td>21.000000</td>\n",
       "      <td>2.061750e+03</td>\n",
       "    </tr>\n",
       "    <tr>\n",
       "      <th>50%</th>\n",
       "      <td>90.000000</td>\n",
       "      <td>2.000000</td>\n",
       "      <td>2.000000</td>\n",
       "      <td>1.000000</td>\n",
       "      <td>5.600000e+02</td>\n",
       "      <td>2661.000000</td>\n",
       "      <td>125.000000</td>\n",
       "      <td>36.000000</td>\n",
       "      <td>3.581500e+03</td>\n",
       "    </tr>\n",
       "    <tr>\n",
       "      <th>75%</th>\n",
       "      <td>182.000000</td>\n",
       "      <td>3.000000</td>\n",
       "      <td>3.000000</td>\n",
       "      <td>2.000000</td>\n",
       "      <td>1.237500e+03</td>\n",
       "      <td>5000.000000</td>\n",
       "      <td>375.000000</td>\n",
       "      <td>68.000000</td>\n",
       "      <td>6.768000e+03</td>\n",
       "    </tr>\n",
       "    <tr>\n",
       "      <th>max</th>\n",
       "      <td>46335.000000</td>\n",
       "      <td>13.000000</td>\n",
       "      <td>10.000000</td>\n",
       "      <td>12.000000</td>\n",
       "      <td>1.117000e+06</td>\n",
       "      <td>45000.000000</td>\n",
       "      <td>313700.000000</td>\n",
       "      <td>677.000000</td>\n",
       "      <td>1.120000e+06</td>\n",
       "    </tr>\n",
       "  </tbody>\n",
       "</table>\n",
       "</div>"
      ],
      "text/plain": [
       "               area         rooms      bathroom  parking spaces      hoa (R$)  \\\n",
       "count  10692.000000  10692.000000  10692.000000    10692.000000  1.069200e+04   \n",
       "mean     149.217920      2.506079      2.236813        1.609147  1.174022e+03   \n",
       "std      537.016942      1.171266      1.407198        1.589521  1.559231e+04   \n",
       "min       11.000000      1.000000      1.000000        0.000000  0.000000e+00   \n",
       "25%       56.000000      2.000000      1.000000        0.000000  1.700000e+02   \n",
       "50%       90.000000      2.000000      2.000000        1.000000  5.600000e+02   \n",
       "75%      182.000000      3.000000      3.000000        2.000000  1.237500e+03   \n",
       "max    46335.000000     13.000000     10.000000       12.000000  1.117000e+06   \n",
       "\n",
       "       rent amount (R$)  property tax (R$)  fire insurance (R$)    total (R$)  \n",
       "count      10692.000000       10692.000000         10692.000000  1.069200e+04  \n",
       "mean        3896.247194         366.704358            53.300879  5.490487e+03  \n",
       "std         3408.545518        3107.832321            47.768031  1.648473e+04  \n",
       "min          450.000000           0.000000             3.000000  4.990000e+02  \n",
       "25%         1530.000000          38.000000            21.000000  2.061750e+03  \n",
       "50%         2661.000000         125.000000            36.000000  3.581500e+03  \n",
       "75%         5000.000000         375.000000            68.000000  6.768000e+03  \n",
       "max        45000.000000      313700.000000           677.000000  1.120000e+06  "
      ]
     },
     "execution_count": 7,
     "metadata": {},
     "output_type": "execute_result"
    }
   ],
   "source": [
    "#statistical summary of the columns\n",
    "df.describe()"
   ]
  },
  {
   "cell_type": "code",
   "execution_count": null,
   "metadata": {},
   "outputs": [],
   "source": []
  },
  {
   "cell_type": "code",
   "execution_count": 9,
   "metadata": {},
   "outputs": [
    {
     "data": {
      "text/plain": [
       "array(['São Paulo', 'Porto Alegre', 'Rio de Janeiro', 'Campinas',\n",
       "       'Belo Horizonte'], dtype=object)"
      ]
     },
     "execution_count": 9,
     "metadata": {},
     "output_type": "execute_result"
    }
   ],
   "source": [
    "df[\"city\"].unique()"
   ]
  },
  {
   "cell_type": "code",
   "execution_count": 10,
   "metadata": {},
   "outputs": [],
   "source": [
    "#Creating citywise dataset\n",
    "city_wise=pd.DataFrame(columns=[\"area\",\"rooms\",\"bathroom\",\"parking spaces\",\"hoa (R$)\",\"rent amount (R$)\",\"property tax (R$)\",\n",
    "                                \"fire insurance (R$)\",\"total (R$)\"],index=list(df[\"city\"].unique()))\n",
    "for i in city_wise.index:\n",
    "    city_wise.loc[i]=df[df.city==i].mean()"
   ]
  },
  {
   "cell_type": "code",
   "execution_count": 11,
   "metadata": {},
   "outputs": [
    {
     "name": "stdout",
     "output_type": "stream",
     "text": [
      "                   area    rooms bathroom parking spaces hoa (R$)  \\\n",
      "São Paulo       158.899  2.55886  2.46764        1.87753  1169.63   \n",
      "Porto Alegre    103.609  2.14082   1.7259        1.04443  491.619   \n",
      "Rio de Janeiro  105.348  2.24384  1.75616       0.744171  1079.43   \n",
      "Campinas        137.562  2.35522  1.96014        1.55803  628.923   \n",
      "Belo Horizonte  207.412  3.02067  2.40223        1.95548   2324.2   \n",
      "\n",
      "               rent amount (R$) property tax (R$) fire insurance (R$)  \\\n",
      "São Paulo               4652.79           495.702             62.4289   \n",
      "Porto Alegre             2337.7           124.022             36.4258   \n",
      "Rio de Janeiro           3232.9           256.853              42.483   \n",
      "Campinas                2364.29           147.658              32.388   \n",
      "Belo Horizonte          3664.13           272.782             53.6757   \n",
      "\n",
      "               total (R$)  \n",
      "São Paulo         6380.83  \n",
      "Porto Alegre      2989.78  \n",
      "Rio de Janeiro    4611.68  \n",
      "Campinas          3173.28  \n",
      "Belo Horizonte    6315.24  \n"
     ]
    }
   ],
   "source": [
    "print(city_wise)"
   ]
  },
  {
   "cell_type": "code",
   "execution_count": 12,
   "metadata": {},
   "outputs": [
    {
     "data": {
      "text/plain": [
       "Text(0.5, 1.0, 'city wise house area avg')"
      ]
     },
     "execution_count": 12,
     "metadata": {},
     "output_type": "execute_result"
    },
    {
     "data": {
      "image/png": "[encoded data removed]",
      "text/plain": [
       "<Figure size 432x288 with 1 Axes>"
      ]
     },
     "metadata": {
      "needs_background": "light"
     },
     "output_type": "display_data"
    }
   ],
   "source": [
    "# MEAN AREA OF HOUSES BY CITY\n",
    "plt.bar(city_wise.index,city_wise[\"area\"])\n",
    "plt.title(\"city wise house area avg\")\n"
   ]
  },
  {
   "cell_type": "code",
   "execution_count": 13,
   "metadata": {},
   "outputs": [
    {
     "data": {
      "text/plain": [
       "Text(0.5, 1.0, 'city wise house rent (R$) avg')"
      ]
     },
     "execution_count": 13,
     "metadata": {},
     "output_type": "execute_result"
    },
    {
     "data": {
      "image/png": "[encoded data removed]",
      "text/plain": [
       "<Figure size 432x288 with 1 Axes>"
      ]
     },
     "metadata": {
      "needs_background": "light"
     },
     "output_type": "display_data"
    }
   ],
   "source": [
    "# MEAN RENT OF HOUSES CITYWISE\n",
    "plt.bar(city_wise.index,city_wise[\"rent amount (R$)\"])\n",
    "plt.title(\"city wise house rent (R$) avg\")"
   ]
  },
  {
   "cell_type": "code",
   "execution_count": 45,
   "metadata": {},
   "outputs": [
    {
     "data": {
      "text/plain": [
       "<matplotlib.legend.Legend at 0x228eaec8370>"
      ]
     },
     "execution_count": 45,
     "metadata": {},
     "output_type": "execute_result"
    },
    {
     "data": {
      "image/png": "[encoded data removed]",
      "text/plain": [
       "<Figure size 432x288 with 1 Axes>"
      ]
     },
     "metadata": {
      "needs_background": "light"
     },
     "output_type": "display_data"
    }
   ],
   "source": [
    "# MEAN NUMBER OF ROOMS AND BATHROOMS CITYWISE\n",
    "plt.bar(city_wise.index,city_wise[\"rooms\"],label=\"rooms\")\n",
    "plt.bar(city_wise.index,city_wise[\"bathroom\"],label=\"bathrooms\")\n",
    "plt.title(\"city wise house rooms avg\")\n",
    "plt.legend()"
   ]
  },
  {
   "cell_type": "code",
   "execution_count": 44,
   "metadata": {},
   "outputs": [
    {
     "data": {
      "text/plain": [
       "<matplotlib.legend.Legend at 0x228eab7bdf0>"
      ]
     },
     "execution_count": 44,
     "metadata": {},
     "output_type": "execute_result"
    },
    {
     "data": {
      "image/png": "[encoded data removed]",
      "text/plain": [
       "<Figure size 432x288 with 1 Axes>"
      ]
     },
     "metadata": {
      "needs_background": "light"
     },
     "output_type": "display_data"
    }
   ],
   "source": [
    "#Rooms vs hoa,fire insurance,property tax\n",
    "x1=np.arange()\n",
    "x2=[x+0.2 for x in x1]\n",
    "x3=[x+0.2 for x in x2]\n",
    "plt.bar(x1,[df[df[\"rooms\"]==1][\"hoa (R$)\"].mean(),df[df[\"rooms\"]==2][\"hoa (R$)\"].mean(),\n",
    "                           df[df[\"rooms\"]==3][\"hoa (R$)\"].mean(),df[df[\"rooms\"]==4][\"hoa (R$)\"].mean()],\n",
    "       width=0.2,color=\"r\",label=\"home association tax\")\n",
    "plt.bar(x2,[df[df[\"rooms\"]==1][\"fire insurance (R$)\"].mean(),df[df[\"rooms\"]==2][\"fire insurance (R$)\"].mean(),\n",
    "                           df[df[\"rooms\"]==3][\"fire insurance (R$)\"].mean(),df[df[\"rooms\"]==4][\"fire insurance (R$)\"].mean()],\n",
    "       width=0.2,color=\"b\",label=\"fire insurance\")\n",
    "plt.bar(x3,[df[df[\"rooms\"]==1][\"property tax (R$)\"].mean(),df[df[\"rooms\"]==2][\"property tax (R$)\"].mean(),\n",
    "                           df[df[\"rooms\"]==3][\"property tax (R$)\"].mean(),df[df[\"rooms\"]==4][\"property tax (R$)\"].mean()],\n",
    "       width=0.2,color=\"g\",label=\"property tax\")\n",
    "plt.xticks([ r + 0.2 for r in range(4)],\n",
    "        ['1','2','3','4'])\n",
    "plt.xlabel(\"ROOMS\")\n",
    "plt.ylabel(\"AMOUNT\")\n",
    "plt.legend()"
   ]
  },
  {
   "cell_type": "code",
   "execution_count": null,
   "metadata": {},
   "outputs": [],
   "source": []
  }
 ],
 "metadata": {
  "kernelspec": {
   "display_name": "Python 3",
   "language": "python",
   "name": "python3"
  },
  "language_info": {
   "codemirror_mode": {
    "name": "ipython",
    "version": 3
   },
   "file_extension": ".py",
   "mimetype": "text/x-python",
   "name": "python",
   "nbconvert_exporter": "python",
   "pygments_lexer": "ipython3",
   "version": "3.8.5"
  }
 },
 "nbformat": 4,
 "nbformat_minor": 4
}
